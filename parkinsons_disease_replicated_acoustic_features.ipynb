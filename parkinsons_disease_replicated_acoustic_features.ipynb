{
 "cells": [
  {
   "cell_type": "markdown",
   "metadata": {
    "colab_type": "text",
    "id": "nrV0w6nIeR5Z"
   },
   "source": [
    "# Parkinson's Disease Classification with Replicated Acoustic Features\n",
    "\n",
    "* The Dataset is a collection of acoustic features extracted from 3 samples of voice from 80 people of which 40 were tested positive for Parkinson's Disease.\n",
    "- ```\n",
    "80 persons\n",
    "3 voice samples per person\n",
    "80 * 3 = 240 samples in total\n",
    "```\n",
    "\n",
    "## **Abstract**\n",
    "  - Contains acoustic features extracted from 3 voice recording replications of the sustained /a/ phonation for each one of the 80 subjects (40 tested positive).\n",
    "\n",
    "## **Dataset Information**\n",
    "  - **Data Set Characteristics**: Multivariate\n",
    "  - **Number of Instances**: 240\n",
    "  - **Area**: Life\n",
    "  - **Number of Attributes**: 46\n",
    "  - **Associated Tasks**: Classification\n",
    "  - **Date Donated**: 10th April 2019\n",
    "\n",
    "## **Dataset Links**\n",
    "  - [dataset-csv](https://archive.ics.uci.edu/ml/machine-learning-databases/00489/ReplicatedAcousticFeatures-ParkinsonDatabase.csv)\n",
    "  - [dataset-description](https://archive.ics.uci.edu/ml/datasets/Parkinson+Dataset+with+replicated+acoustic+features+)\n",
    "\n",
    "## **Information**\n",
    "  1. Each row can not be used independently, because is one of the three replications of one individual. Nature of data is dependent for each subject, but independent from one to another subject. So, traditional technique from machine learning can not be applied to this dataset, because those techniques are based on the independent nature of the instances. There are 240 instances but for only 80 subjects, so they are not independent. Techniques as those presented in Naranjo et al. (2016), Naranjo et al. (2017) or other specifically designed can be used.\n",
    "  2. The concept of replication considered here does not match the classical concept of statistical repeated measurements. The term 'replications' refers to the collection of features extracted from voice recordings belonging to the same subject. Since, in this context, features are extracted from multiple consecutive voice recordings from the same subject, in principle, the features should be identical. The imperfections in technology and the own biological variability result in non-identical replicated features that are more similar to one another than features from different subjects.\n",
    "  3. All information about how the dataset was generated is presented in Naranjo et al. (2016).\n",
    "  \n",
    "## **Attribute Information**\n",
    "  1. **ID**: Subjects's identifier.\n",
    "  2. **Recording**: Number of the recording.\n",
    "  3. **Status**: 0=Healthy; 1=PD\n",
    "  4. **Gender**: 0=Man; 1=Woman\n",
    "  5. Pitch local perturbation measures: relative jitter (**Jitter_rel**), absolute jitter (**Jitter_abs**), relative average perturbation (**Jitter_RAP**), and pitch perturbation quotient (**Jitter_PPQ**).\n",
    "  6. Amplitude perturbation measures: local shimmer (**Shim_loc**), shimmer in dB (**Shim_dB**), 3-point amplitude perturbation quotient (**Shim_APQ3**), 5-point amplitude perturbation quotient (**Shim_APQ5**), and 11-point amplitude perturbation quotient (**Shim_APQ11**).\n",
    "  7. Harmonic-to-noise ratio measures: harmonic-to-noise ratio in the frequency band 0-500 Hz (**HNR05**), in 0-1500 Hz (**HNR15**), in 0-2500 Hz (**HNR25**), in 0-3500 Hz (**HNR35**), and in 0-3800 Hz (**HNR38**).\n",
    "  8. Mel frequency cepstral coefficient-based spectral measures of order 0 to 12 (**MFCC0, MFCC1,..., MFCC12**) and their derivatives (**Delta0, Delta1,..., Delta12**).\n",
    "  9. Recurrence period density entropy (**RPDE**).\n",
    "  10. Detrended fluctuation analysis (**DFA**).\n",
    "  11. Pitch period entropy (**PPE**).\n",
    "  12. Glottal-to-noise excitation ratio (**GNE**)."
   ]
  },
  {
   "cell_type": "code",
   "execution_count": 1,
   "metadata": {
    "colab": {},
    "colab_type": "code",
    "id": "f_-ka3CRiR0k"
   },
   "outputs": [],
   "source": [
    "#@title Getting the Dataset from the [dataset-link](https://archive.ics.uci.edu/ml/machine-learning-databases/00489/ReplicatedAcousticFeatures-ParkinsonDatabase.csv).\n",
    "!wget -q https://archive.ics.uci.edu/ml/machine-learning-databases/00489/ReplicatedAcousticFeatures-ParkinsonDatabase.csv"
   ]
  },
  {
   "cell_type": "code",
   "execution_count": 2,
   "metadata": {
    "colab": {},
    "colab_type": "code",
    "id": "2UqiwH0Jip-V"
   },
   "outputs": [],
   "source": [
    "#@title Importing the Necessary Libraries.\n",
    "import pandas as pd\n",
    "import matplotlib.pyplot as plt\n",
    "import seaborn as sns\n",
    "\n",
    "from sklearn.decomposition import PCA\n",
    "from sklearn.preprocessing import StandardScaler\n",
    "\n",
    "from sklearn.model_selection import train_test_split\n",
    "\n",
    "from sklearn.ensemble import RandomForestRegressor\n",
    "\n",
    "from sklearn.metrics import confusion_matrix\n",
    "from sklearn.metrics import f1_score\n",
    "from sklearn.metrics import accuracy_score\n",
    "import numpy as np"
   ]
  },
  {
   "cell_type": "code",
   "execution_count": 3,
   "metadata": {
    "colab": {
     "base_uri": "https://localhost:8080/",
     "height": 304
    },
    "colab_type": "code",
    "id": "f444vTnKjYZk",
    "outputId": "838ca2ba-4ed9-4d52-8913-baac34dee7cc"
   },
   "outputs": [
    {
     "data": {
      "text/html": [
       "<div>\n",
       "<style scoped>\n",
       "    .dataframe tbody tr th:only-of-type {\n",
       "        vertical-align: middle;\n",
       "    }\n",
       "\n",
       "    .dataframe tbody tr th {\n",
       "        vertical-align: top;\n",
       "    }\n",
       "\n",
       "    .dataframe thead th {\n",
       "        text-align: right;\n",
       "    }\n",
       "</style>\n",
       "<table border=\"1\" class=\"dataframe\">\n",
       "  <thead>\n",
       "    <tr style=\"text-align: right;\">\n",
       "      <th></th>\n",
       "      <th>Recording</th>\n",
       "      <th>Status</th>\n",
       "      <th>Gender</th>\n",
       "      <th>Jitter_rel</th>\n",
       "      <th>Jitter_abs</th>\n",
       "      <th>Jitter_RAP</th>\n",
       "      <th>Jitter_PPQ</th>\n",
       "      <th>Shim_loc</th>\n",
       "      <th>Shim_dB</th>\n",
       "      <th>Shim_APQ3</th>\n",
       "      <th>...</th>\n",
       "      <th>Delta3</th>\n",
       "      <th>Delta4</th>\n",
       "      <th>Delta5</th>\n",
       "      <th>Delta6</th>\n",
       "      <th>Delta7</th>\n",
       "      <th>Delta8</th>\n",
       "      <th>Delta9</th>\n",
       "      <th>Delta10</th>\n",
       "      <th>Delta11</th>\n",
       "      <th>Delta12</th>\n",
       "    </tr>\n",
       "  </thead>\n",
       "  <tbody>\n",
       "    <tr>\n",
       "      <td>0</td>\n",
       "      <td>1</td>\n",
       "      <td>0</td>\n",
       "      <td>1</td>\n",
       "      <td>0.25546</td>\n",
       "      <td>0.000015</td>\n",
       "      <td>0.001467</td>\n",
       "      <td>0.001673</td>\n",
       "      <td>0.030256</td>\n",
       "      <td>0.26313</td>\n",
       "      <td>0.017463</td>\n",
       "      <td>...</td>\n",
       "      <td>1.407701</td>\n",
       "      <td>1.417218</td>\n",
       "      <td>1.380352</td>\n",
       "      <td>1.420670</td>\n",
       "      <td>1.451240</td>\n",
       "      <td>1.440295</td>\n",
       "      <td>1.403678</td>\n",
       "      <td>1.405495</td>\n",
       "      <td>1.416705</td>\n",
       "      <td>1.354610</td>\n",
       "    </tr>\n",
       "    <tr>\n",
       "      <td>1</td>\n",
       "      <td>2</td>\n",
       "      <td>0</td>\n",
       "      <td>1</td>\n",
       "      <td>0.36964</td>\n",
       "      <td>0.000022</td>\n",
       "      <td>0.001932</td>\n",
       "      <td>0.002245</td>\n",
       "      <td>0.023146</td>\n",
       "      <td>0.20217</td>\n",
       "      <td>0.013010</td>\n",
       "      <td>...</td>\n",
       "      <td>1.331232</td>\n",
       "      <td>1.227338</td>\n",
       "      <td>1.213377</td>\n",
       "      <td>1.352739</td>\n",
       "      <td>1.354242</td>\n",
       "      <td>1.365692</td>\n",
       "      <td>1.322870</td>\n",
       "      <td>1.314549</td>\n",
       "      <td>1.318999</td>\n",
       "      <td>1.323508</td>\n",
       "    </tr>\n",
       "    <tr>\n",
       "      <td>2</td>\n",
       "      <td>3</td>\n",
       "      <td>0</td>\n",
       "      <td>1</td>\n",
       "      <td>0.23514</td>\n",
       "      <td>0.000013</td>\n",
       "      <td>0.001353</td>\n",
       "      <td>0.001546</td>\n",
       "      <td>0.019338</td>\n",
       "      <td>0.16710</td>\n",
       "      <td>0.011049</td>\n",
       "      <td>...</td>\n",
       "      <td>1.412304</td>\n",
       "      <td>1.324674</td>\n",
       "      <td>1.276088</td>\n",
       "      <td>1.429634</td>\n",
       "      <td>1.455996</td>\n",
       "      <td>1.368882</td>\n",
       "      <td>1.438053</td>\n",
       "      <td>1.388910</td>\n",
       "      <td>1.305469</td>\n",
       "      <td>1.305402</td>\n",
       "    </tr>\n",
       "    <tr>\n",
       "      <td>3</td>\n",
       "      <td>1</td>\n",
       "      <td>0</td>\n",
       "      <td>0</td>\n",
       "      <td>0.29320</td>\n",
       "      <td>0.000017</td>\n",
       "      <td>0.001105</td>\n",
       "      <td>0.001444</td>\n",
       "      <td>0.024716</td>\n",
       "      <td>0.20892</td>\n",
       "      <td>0.014525</td>\n",
       "      <td>...</td>\n",
       "      <td>1.501200</td>\n",
       "      <td>1.534170</td>\n",
       "      <td>1.323993</td>\n",
       "      <td>1.496442</td>\n",
       "      <td>1.472926</td>\n",
       "      <td>1.643177</td>\n",
       "      <td>1.551286</td>\n",
       "      <td>1.638346</td>\n",
       "      <td>1.604008</td>\n",
       "      <td>1.621456</td>\n",
       "    </tr>\n",
       "    <tr>\n",
       "      <td>4</td>\n",
       "      <td>2</td>\n",
       "      <td>0</td>\n",
       "      <td>0</td>\n",
       "      <td>0.23075</td>\n",
       "      <td>0.000015</td>\n",
       "      <td>0.001073</td>\n",
       "      <td>0.001404</td>\n",
       "      <td>0.013119</td>\n",
       "      <td>0.11607</td>\n",
       "      <td>0.006461</td>\n",
       "      <td>...</td>\n",
       "      <td>1.508468</td>\n",
       "      <td>1.334511</td>\n",
       "      <td>1.610694</td>\n",
       "      <td>1.685021</td>\n",
       "      <td>1.417614</td>\n",
       "      <td>1.574895</td>\n",
       "      <td>1.640088</td>\n",
       "      <td>1.533666</td>\n",
       "      <td>1.297536</td>\n",
       "      <td>1.382023</td>\n",
       "    </tr>\n",
       "  </tbody>\n",
       "</table>\n",
       "<p>5 rows × 47 columns</p>\n",
       "</div>"
      ],
      "text/plain": [
       "   Recording  Status  Gender  Jitter_rel  Jitter_abs  Jitter_RAP  Jitter_PPQ  \\\n",
       "0          1       0       1     0.25546    0.000015    0.001467    0.001673   \n",
       "1          2       0       1     0.36964    0.000022    0.001932    0.002245   \n",
       "2          3       0       1     0.23514    0.000013    0.001353    0.001546   \n",
       "3          1       0       0     0.29320    0.000017    0.001105    0.001444   \n",
       "4          2       0       0     0.23075    0.000015    0.001073    0.001404   \n",
       "\n",
       "   Shim_loc  Shim_dB  Shim_APQ3  ...    Delta3    Delta4    Delta5    Delta6  \\\n",
       "0  0.030256  0.26313   0.017463  ...  1.407701  1.417218  1.380352  1.420670   \n",
       "1  0.023146  0.20217   0.013010  ...  1.331232  1.227338  1.213377  1.352739   \n",
       "2  0.019338  0.16710   0.011049  ...  1.412304  1.324674  1.276088  1.429634   \n",
       "3  0.024716  0.20892   0.014525  ...  1.501200  1.534170  1.323993  1.496442   \n",
       "4  0.013119  0.11607   0.006461  ...  1.508468  1.334511  1.610694  1.685021   \n",
       "\n",
       "     Delta7    Delta8    Delta9   Delta10   Delta11   Delta12  \n",
       "0  1.451240  1.440295  1.403678  1.405495  1.416705  1.354610  \n",
       "1  1.354242  1.365692  1.322870  1.314549  1.318999  1.323508  \n",
       "2  1.455996  1.368882  1.438053  1.388910  1.305469  1.305402  \n",
       "3  1.472926  1.643177  1.551286  1.638346  1.604008  1.621456  \n",
       "4  1.417614  1.574895  1.640088  1.533666  1.297536  1.382023  \n",
       "\n",
       "[5 rows x 47 columns]"
      ]
     },
     "execution_count": 3,
     "metadata": {},
     "output_type": "execute_result"
    }
   ],
   "source": [
    "#@title Converting the csvdata to a [pandas.DataFrame](https://pandas.pydata.org/pandas-docs/stable/reference/api/pandas.DataFrame.html).\n",
    "dataset = pd.read_csv(\"ReplicatedAcousticFeatures-ParkinsonDatabase.csv\")\n",
    "dataset = dataset.drop('ID',axis=1)\n",
    "x = dataset.drop('Status',axis=1,inplace=False)\n",
    "y = dataset['Status']\n",
    "dataset.head()"
   ]
  },
  {
   "cell_type": "code",
   "execution_count": 4,
   "metadata": {
    "colab": {
     "base_uri": "https://localhost:8080/",
     "height": 692
    },
    "colab_type": "code",
    "id": "oFaVQaSc8kt_",
    "outputId": "1bdb6d2f-adf0-4d44-8282-e6ef4955cd89"
   },
   "outputs": [
    {
     "data": {
      "text/plain": [
       "Text(0.5, 1, 'Heat Map')"
      ]
     },
     "execution_count": 4,
     "metadata": {},
     "output_type": "execute_result"
    },
    {
     "data": {
      "image/png": "[encoded data removed]",
      "text/plain": [
       "<Figure size 720x720 with 2 Axes>"
      ]
     },
     "metadata": {
      "needs_background": "light"
     },
     "output_type": "display_data"
    }
   ],
   "source": [
    "#@title Plotting a Correlation HeatMap for the Attributes in the Dataset.\n",
    "%matplotlib inline\n",
    "corrMatrix = dataset.corr()\n",
    "fig, ax = plt.subplots(figsize=(10,10))\n",
    "hm = sns.heatmap(dataset.corr(),xticklabels=True, yticklabels=True,linewidths=1)\n",
    "hm.set_title(\"Heat Map\")"
   ]
  },
  {
   "cell_type": "code",
   "execution_count": 5,
   "metadata": {
    "colab": {
     "base_uri": "https://localhost:8080/",
     "height": 298
    },
    "colab_type": "code",
    "id": "rl5FiFwL9Luf",
    "outputId": "7954f554-bf75-4f52-f8e2-73eec8a32314"
   },
   "outputs": [
    {
     "name": "stderr",
     "output_type": "stream",
     "text": [
      "/usr/local/lib/python3.7/site-packages/sklearn/preprocessing/data.py:645: DataConversionWarning: Data with input dtype int64, float64 were all converted to float64 by StandardScaler.\n",
      "  return self.partial_fit(X, y)\n",
      "/usr/local/lib/python3.7/site-packages/sklearn/base.py:464: DataConversionWarning: Data with input dtype int64, float64 were all converted to float64 by StandardScaler.\n",
      "  return self.fit(X, **fit_params).transform(X)\n"
     ]
    },
    {
     "data": {
      "text/plain": [
       "Text(0.5, 1.0, 'PCA')"
      ]
     },
     "execution_count": 5,
     "metadata": {},
     "output_type": "execute_result"
    },
    {
     "data": {
      "image/png": "[encoded data removed]",
      "text/plain": [
       "<Figure size 432x288 with 1 Axes>"
      ]
     },
     "metadata": {
      "needs_background": "light"
     },
     "output_type": "display_data"
    }
   ],
   "source": [
    "#@title Performing Principal Component Analysis for the given Dataset.\n",
    "scaler=StandardScaler()\n",
    "x = scaler.fit_transform(x)\n",
    "\n",
    "components = 10\n",
    "pca = PCA(n_components=components)\n",
    "principalComponents = pca.fit_transform(x)\n",
    "x = pd.DataFrame(data = principalComponents, columns = [\"pc\"+str(i) for i in range(components)])\n",
    "\n",
    "ax = sns.barplot( x=[\"pc\"+str(i) for i in range(components)],y=pca.explained_variance_)\n",
    "ax.set_title(\"PCA\")"
   ]
  },
  {
   "cell_type": "code",
   "execution_count": 6,
   "metadata": {
    "colab": {},
    "colab_type": "code",
    "id": "oG-csGVG902O"
   },
   "outputs": [],
   "source": [
    "#@title Performing Train Test Split with 80-20.\n",
    "x_train, x_test, y_train, y_test = train_test_split(x, y, test_size=0.2, random_state=30)"
   ]
  },
  {
   "cell_type": "code",
   "execution_count": 7,
   "metadata": {
    "colab": {
     "base_uri": "https://localhost:8080/",
     "height": 34
    },
    "colab_type": "code",
    "id": "iMsjYWrclPv5",
    "outputId": "4ba9b57a-5d6b-4dfb-cef4-7222b66c9948"
   },
   "outputs": [
    {
     "name": "stdout",
     "output_type": "stream",
     "text": [
      "random_state_choice: 49\n"
     ]
    }
   ],
   "source": [
    "#@title Choosing the Optimal Random State\n",
    "accuracy_max = 0\n",
    "random_state_choice = 0\n",
    "for state in range(0, 50):\n",
    "  rf = RandomForestRegressor(n_estimators = 2500, random_state = state)\n",
    "  rf.fit(x_train, y_train)\n",
    "  y_pred = np.round(rf.predict(x_test))\n",
    "  accuracy = accuracy_score(y_test, y_pred)\n",
    "  if accuracy > accuracy_max:\n",
    "    random_state_choice = state\n",
    "\n",
    "print('random_state_choice: ' + str(random_state_choice))"
   ]
  },
  {
   "cell_type": "code",
   "execution_count": 8,
   "metadata": {
    "colab": {
     "base_uri": "https://localhost:8080/",
     "height": 34
    },
    "colab_type": "code",
    "id": "IrEtBIhun6iw",
    "outputId": "5d94354d-c6f3-4f1e-d7d3-a56d08d651e2"
   },
   "outputs": [
    {
     "name": "stdout",
     "output_type": "stream",
     "text": [
      "estimator_choice: 4500\n"
     ]
    }
   ],
   "source": [
    "#@title Choosing the Optimal Number of Estimators\n",
    "accuracy_max = 0\n",
    "estimator_choice = 0\n",
    "for estimator in range(500, 5000, 500):\n",
    "  rf = RandomForestRegressor(n_estimators = estimator, random_state = random_state_choice)\n",
    "  rf.fit(x_train, y_train)\n",
    "  y_pred = np.round(rf.predict(x_test))\n",
    "  accuracy = accuracy_score(y_test, y_pred)\n",
    "  if accuracy > accuracy_max:\n",
    "    estimator_choice = estimator\n",
    "\n",
    "print('estimator_choice: ' + str(estimator_choice))"
   ]
  },
  {
   "cell_type": "code",
   "execution_count": 9,
   "metadata": {
    "colab": {
     "base_uri": "https://localhost:8080/",
     "height": 34
    },
    "colab_type": "code",
    "id": "CT_5VEl0okpP",
    "outputId": "fc9c540f-6aa1-4146-adf0-ca0a979f0dc3"
   },
   "outputs": [
    {
     "name": "stdout",
     "output_type": "stream",
     "text": [
      "Accuracy:  0.8541666666666666\n"
     ]
    }
   ],
   "source": [
    "#@title Training the Model with the Optimal Number of Estimators and Random States\n",
    "rf = RandomForestRegressor(n_estimators = estimator_choice, random_state = random_state_choice)\n",
    "rf.fit(x_train, y_train)\n",
    "y_pred = np.round(rf.predict(x_test))\n",
    "\n",
    "macro = f1_score(y_test, y_pred, average='macro')\n",
    "micro = f1_score(y_test, y_pred, average='micro')\n",
    "weighted = f1_score(y_test, y_pred, average='weighted')\n",
    "\n",
    "print(\"Accuracy: \", accuracy_score(y_test, y_pred))"
   ]
  },
  {
   "cell_type": "code",
   "execution_count": 10,
   "metadata": {
    "colab": {
     "base_uri": "https://localhost:8080/",
     "height": 312
    },
    "colab_type": "code",
    "id": "TV9xJ1eH-T9P",
    "outputId": "7697594c-73f3-442d-e08f-2cf35417c04a"
   },
   "outputs": [
    {
     "data": {
      "text/plain": [
       "[Text(0, 0.5, 'Yes'), Text(0, 1.5, 'No')]"
      ]
     },
     "execution_count": 10,
     "metadata": {},
     "output_type": "execute_result"
    },
    {
     "data": {
      "image/png": "[encoded data removed]",
      "text/plain": [
       "<Figure size 432x288 with 2 Axes>"
      ]
     },
     "metadata": {
      "needs_background": "light"
     },
     "output_type": "display_data"
    }
   ],
   "source": [
    "#@title Confusion Matrix for the Random Forest Regressor.\n",
    "cm = confusion_matrix(y_test, y_pred)\n",
    "ax= plt.subplot()\n",
    "\n",
    "sns.heatmap(cm, annot=True, ax = ax)\n",
    "\n",
    "ax.set_title(\"Random Forest Classifier\")\n",
    "ax.set_xlabel('Predicted labels')\n",
    "ax.set_ylabel('True labels')\n",
    "ax.set_title('Confusion Matrix')\n",
    "ax.xaxis.set_ticklabels(['Yes', 'No'])\n",
    "ax.yaxis.set_ticklabels(['Yes', 'No'])"
   ]
  },
  {
   "cell_type": "markdown",
   "metadata": {
    "colab_type": "text",
    "id": "7KfYTulO_uMP"
   },
   "source": [
    "Accuracy of the Model used: **0.854167**\n",
    "\n",
    "***~ 85.42% accuracy***"
   ]
  }
 ],
 "metadata": {
  "colab": {
   "collapsed_sections": [],
   "name": "parkinsons-disease-replicated-acoustic-features",
   "provenance": []
  },
  "kernelspec": {
   "display_name": "Python 3",
   "language": "python",
   "name": "python3"
  },
  "language_info": {
   "codemirror_mode": {
    "name": "ipython",
    "version": 3
   },
   "file_extension": ".py",
   "mimetype": "text/x-python",
   "name": "python",
   "nbconvert_exporter": "python",
   "pygments_lexer": "ipython3",
   "version": "3.7.4"
  }
 },
 "nbformat": 4,
 "nbformat_minor": 1
}
