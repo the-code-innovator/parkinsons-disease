{
 "cells": [
  {
   "cell_type": "markdown",
   "metadata": {
    "colab_type": "text",
    "id": "nrV0w6nIeR5Z"
   },
   "source": [
    "# Parkinson's Disease Classification with Replicated Acoustic Features\n",
    "\n",
    "* The Dataset is a collection of acoustic features extracted from 3 samples of voice from 80 people of which 40 were tested positive for Parkinson's Disease.\n",
    "- ```\n",
    "80 persons\n",
    "3 voice samples per person\n",
    "80 * 3 = 240 samples in total\n",
    "```\n",
    "\n",
    "## **Abstract**\n",
    "  - Contains acoustic features extracted from 3 voice recording replications of the sustained /a/ phonation for each one of the 80 subjects (40 tested positive).\n",
    "\n",
    "## **Dataset Information**\n",
    "  - **Data Set Characteristics**: Multivariate\n",
    "  - **Number of Instances**: 240\n",
    "  - **Area**: Life\n",
    "  - **Number of Attributes**: 46\n",
    "  - **Associated Tasks**: Classification\n",
    "  - **Date Donated**: 10th April 2019\n",
    "\n",
    "## **Dataset Links**\n",
    "  - [dataset-csv](https://archive.ics.uci.edu/ml/machine-learning-databases/00489/ReplicatedAcousticFeatures-ParkinsonDatabase.csv)\n",
    "  - [dataset-description](https://archive.ics.uci.edu/ml/datasets/Parkinson+Dataset+with+replicated+acoustic+features+)\n",
    "\n",
    "## **Information**\n",
    "  1. Each row can not be used independently, because is one of the three replications of one individual. Nature of data is dependent for each subject, but independent from one to another subject. So, traditional technique from machine learning can not be applied to this dataset, because those techniques are based on the independent nature of the instances. There are 240 instances but for only 80 subjects, so they are not independent. Techniques as those presented in Naranjo et al. (2016), Naranjo et al. (2017) or other specifically designed can be used.\n",
    "  2. The concept of replication considered here does not match the classical concept of statistical repeated measurements. The term 'replications' refers to the collection of features extracted from voice recordings belonging to the same subject. Since, in this context, features are extracted from multiple consecutive voice recordings from the same subject, in principle, the features should be identical. The imperfections in technology and the own biological variability result in non-identical replicated features that are more similar to one another than features from different subjects.\n",
    "  3. All information about how the dataset was generated is presented in Naranjo et al. (2016).\n",
    "  \n",
    "## **Attribute Information**\n",
    "  1. **ID**: Subjects's identifier.\n",
    "  2. **Recording**: Number of the recording.\n",
    "  3. **Status**: 0=Healthy; 1=PD\n",
    "  4. **Gender**: 0=Man; 1=Woman\n",
    "  5. Pitch local perturbation measures: relative jitter (**Jitter_rel**), absolute jitter (**Jitter_abs**), relative average perturbation (**Jitter_RAP**), and pitch perturbation quotient (**Jitter_PPQ**).\n",
    "  6. Amplitude perturbation measures: local shimmer (**Shim_loc**), shimmer in dB (**Shim_dB**), 3-point amplitude perturbation quotient (**Shim_APQ3**), 5-point amplitude perturbation quotient (**Shim_APQ5**), and 11-point amplitude perturbation quotient (**Shim_APQ11**).\n",
    "  7. Harmonic-to-noise ratio measures: harmonic-to-noise ratio in the frequency band 0-500 Hz (**HNR05**), in 0-1500 Hz (**HNR15**), in 0-2500 Hz (**HNR25**), in 0-3500 Hz (**HNR35**), and in 0-3800 Hz (**HNR38**).\n",
    "  8. Mel frequency cepstral coefficient-based spectral measures of order 0 to 12 (**MFCC0, MFCC1,..., MFCC12**) and their derivatives (**Delta0, Delta1,..., Delta12**).\n",
    "  9. Recurrence period density entropy (**RPDE**).\n",
    "  10. Detrended fluctuation analysis (**DFA**).\n",
    "  11. Pitch period entropy (**PPE**).\n",
    "  12. Glottal-to-noise excitation ratio (**GNE**)."
   ]
  },
  {
   "cell_type": "code",
   "execution_count": 1,
   "metadata": {
    "colab": {},
    "colab_type": "code",
    "id": "f_-ka3CRiR0k"
   },
   "outputs": [],
   "source": [
    "#@title Getting the Dataset from the [dataset-link](https://archive.ics.uci.edu/ml/machine-learning-databases/00489/ReplicatedAcousticFeatures-ParkinsonDatabase.csv).\n",
    "!wget -q https://archive.ics.uci.edu/ml/machine-learning-databases/00489/ReplicatedAcousticFeatures-ParkinsonDatabase.csv"
   ]
  },
  {
   "cell_type": "code",
   "execution_count": 3,
   "metadata": {
    "colab": {},
    "colab_type": "code",
    "id": "2UqiwH0Jip-V"
   },
   "outputs": [],
   "source": [
    "#@title Importing the Necessary Libraries.\n",
    "import pandas as pd\n",
    "import matplotlib.pyplot as plt\n",
    "import seaborn as sns\n",
    "\n",
    "from sklearn.decomposition import PCA\n",
    "from sklearn.preprocessing import StandardScaler\n",
    "\n",
    "from sklearn.model_selection import train_test_split\n",
    "\n",
    "from sklearn.ensemble import RandomForestRegressor\n",
    "\n",
    "from sklearn.metrics import confusion_matrix\n",
    "from sklearn.metrics import f1_score\n",
    "from sklearn.metrics import accuracy_score\n",
    "import numpy as np"
   ]
  },
  {
   "cell_type": "code",
   "execution_count": null,
   "metadata": {
    "colab": {
     "base_uri": "https://localhost:8080/",
     "height": 304
    },
    "colab_type": "code",
    "id": "f444vTnKjYZk",
    "outputId": "838ca2ba-4ed9-4d52-8913-baac34dee7cc"
   },
   "outputs": [],
   "source": [
    "#@title Converting the csvdata to a [pandas.DataFrame](https://pandas.pydata.org/pandas-docs/stable/reference/api/pandas.DataFrame.html).\n",
    "dataset = pd.read_csv(\"ReplicatedAcousticFeatures-ParkinsonDatabase.csv\")\n",
    "dataset = dataset.drop('ID',axis=1)\n",
    "x = dataset.drop('Status',axis=1,inplace=False)\n",
    "y = dataset['Status']\n",
    "dataset.head()"
   ]
  },
  {
   "cell_type": "code",
   "execution_count": null,
   "metadata": {
    "colab": {
     "base_uri": "https://localhost:8080/",
     "height": 692
    },
    "colab_type": "code",
    "id": "oFaVQaSc8kt_",
    "outputId": "1bdb6d2f-adf0-4d44-8282-e6ef4955cd89"
   },
   "outputs": [],
   "source": [
    "#@title Plotting a Correlation HeatMap for the Attributes in the Dataset.\n",
    "%matplotlib inline\n",
    "corrMatrix = dataset.corr()\n",
    "fig, ax = plt.subplots(figsize=(10,10))\n",
    "hm = sns.heatmap(dataset.corr(),xticklabels=True, yticklabels=True,linewidths=1)\n",
    "hm.set_title(\"Heat Map\")"
   ]
  },
  {
   "cell_type": "code",
   "execution_count": null,
   "metadata": {
    "colab": {
     "base_uri": "https://localhost:8080/",
     "height": 298
    },
    "colab_type": "code",
    "id": "rl5FiFwL9Luf",
    "outputId": "7954f554-bf75-4f52-f8e2-73eec8a32314"
   },
   "outputs": [],
   "source": [
    "#@title Performing Principal Component Analysis for the given Dataset.\n",
    "scaler=StandardScaler()\n",
    "x = scaler.fit_transform(x)\n",
    "\n",
    "components = 10\n",
    "pca = PCA(n_components=components)\n",
    "principalComponents = pca.fit_transform(x)\n",
    "x = pd.DataFrame(data = principalComponents, columns = [\"pc\"+str(i) for i in range(components)])\n",
    "\n",
    "ax = sns.barplot( x=[\"pc\"+str(i) for i in range(components)],y=pca.explained_variance_)\n",
    "ax.set_title(\"PCA\")"
   ]
  },
  {
   "cell_type": "code",
   "execution_count": null,
   "metadata": {
    "colab": {},
    "colab_type": "code",
    "id": "oG-csGVG902O"
   },
   "outputs": [],
   "source": [
    "#@title Performing Train Test Split with 80-20.\n",
    "x_train, x_test, y_train, y_test = train_test_split(x, y, test_size=0.2, random_state=30)"
   ]
  },
  {
   "cell_type": "code",
   "execution_count": null,
   "metadata": {
    "colab": {
     "base_uri": "https://localhost:8080/",
     "height": 34
    },
    "colab_type": "code",
    "id": "iMsjYWrclPv5",
    "outputId": "4ba9b57a-5d6b-4dfb-cef4-7222b66c9948"
   },
   "outputs": [],
   "source": [
    "#@title Choosing the Optimal Random State\n",
    "accuracy_max = 0\n",
    "random_state_choice = 0\n",
    "for state in range(0, 50):\n",
    "  rf = RandomForestRegressor(n_estimators = 2500, random_state = state)\n",
    "  rf.fit(x_train, y_train)\n",
    "  y_pred = np.round(rf.predict(x_test))\n",
    "  accuracy = accuracy_score(y_test, y_pred)\n",
    "  if accuracy > accuracy_max:\n",
    "    random_state_choice = state\n",
    "\n",
    "print('random_state_choice: ' + str(random_state_choice))"
   ]
  },
  {
   "cell_type": "code",
   "execution_count": null,
   "metadata": {
    "colab": {
     "base_uri": "https://localhost:8080/",
     "height": 34
    },
    "colab_type": "code",
    "id": "IrEtBIhun6iw",
    "outputId": "5d94354d-c6f3-4f1e-d7d3-a56d08d651e2"
   },
   "outputs": [],
   "source": [
    "#@title Choosing the Optimal Number of Estimators\n",
    "accuracy_max = 0\n",
    "estimator_choice = 0\n",
    "for estimator in range(500, 5000, 500):\n",
    "  rf = RandomForestRegressor(n_estimators = estimator, random_state = random_state_choice)\n",
    "  rf.fit(x_train, y_train)\n",
    "  y_pred = np.round(rf.predict(x_test))\n",
    "  accuracy = accuracy_score(y_test, y_pred)\n",
    "  if accuracy > accuracy_max:\n",
    "    estimator_choice = estimator\n",
    "\n",
    "print('estimator_choice: ' + str(estimator_choice))"
   ]
  },
  {
   "cell_type": "code",
   "execution_count": null,
   "metadata": {
    "colab": {
     "base_uri": "https://localhost:8080/",
     "height": 34
    },
    "colab_type": "code",
    "id": "CT_5VEl0okpP",
    "outputId": "fc9c540f-6aa1-4146-adf0-ca0a979f0dc3"
   },
   "outputs": [],
   "source": [
    "#@title Training the Model with the Optimal Number of Estimators and Random States\n",
    "rf = RandomForestRegressor(n_estimators = estimator_choice, random_state = random_state_choice)\n",
    "rf.fit(x_train, y_train)\n",
    "y_pred = np.round(rf.predict(x_test))\n",
    "\n",
    "macro = f1_score(y_test, y_pred, average='macro')\n",
    "micro = f1_score(y_test, y_pred, average='micro')\n",
    "weighted = f1_score(y_test, y_pred, average='weighted')\n",
    "\n",
    "print(\"Accuracy: \", accuracy_score(y_test, y_pred))"
   ]
  },
  {
   "cell_type": "code",
   "execution_count": null,
   "metadata": {
    "colab": {
     "base_uri": "https://localhost:8080/",
     "height": 312
    },
    "colab_type": "code",
    "id": "TV9xJ1eH-T9P",
    "outputId": "7697594c-73f3-442d-e08f-2cf35417c04a"
   },
   "outputs": [],
   "source": [
    "#@title Confusion Matrix for the Random Forest Regressor.\n",
    "cm = confusion_matrix(y_test, y_pred)\n",
    "ax= plt.subplot()\n",
    "\n",
    "sns.heatmap(cm, annot=True, ax = ax)\n",
    "\n",
    "ax.set_title(\"Random Forest Classifier\")\n",
    "ax.set_xlabel('Predicted labels')\n",
    "ax.set_ylabel('True labels')\n",
    "ax.set_title('Confusion Matrix')\n",
    "ax.xaxis.set_ticklabels(['Yes', 'No'])\n",
    "ax.yaxis.set_ticklabels(['Yes', 'No'])"
   ]
  },
  {
   "cell_type": "markdown",
   "metadata": {
    "colab_type": "text",
    "id": "7KfYTulO_uMP"
   },
   "source": [
    "Accuracy of the Model used: **0.854167**\n",
    "\n",
    "***~ 85.42% accuracy***"
   ]
  }
 ],
 "metadata": {
  "colab": {
   "collapsed_sections": [],
   "name": "parkinsons-disease-replicated-acoustic-features",
   "provenance": []
  },
  "kernelspec": {
   "display_name": "Python 3",
   "language": "python",
   "name": "python3"
  },
  "language_info": {
   "codemirror_mode": {
    "name": "ipython",
    "version": 3
   },
   "file_extension": ".py",
   "mimetype": "text/x-python",
   "name": "python",
   "nbconvert_exporter": "python",
   "pygments_lexer": "ipython3",
   "version": "3.7.4"
  }
 },
 "nbformat": 4,
 "nbformat_minor": 1
}
